{
 "cells": [
  {
   "cell_type": "code",
   "execution_count": 1,
   "id": "da662941-163e-45d1-8317-49f81b8906fb",
   "metadata": {},
   "outputs": [],
   "source": [
    "# data type"
   ]
  },
  {
   "cell_type": "code",
   "execution_count": 2,
   "id": "221afd28-a17f-415d-8ceb-b8a9eec4c7a7",
   "metadata": {},
   "outputs": [
    {
     "data": {
      "text/plain": [
       "int"
      ]
     },
     "execution_count": 2,
     "metadata": {},
     "output_type": "execute_result"
    }
   ],
   "source": [
    "type(10)"
   ]
  },
  {
   "cell_type": "code",
   "execution_count": 3,
   "id": "d00e1dba-0ea0-4960-96ce-630e0ee4d258",
   "metadata": {},
   "outputs": [
    {
     "data": {
      "text/plain": [
       "int"
      ]
     },
     "execution_count": 3,
     "metadata": {},
     "output_type": "execute_result"
    }
   ],
   "source": [
    "type(10 * 3)"
   ]
  },
  {
   "cell_type": "code",
   "execution_count": 4,
   "id": "ac0adb3a-c18e-4695-accd-35ec7a7c4d98",
   "metadata": {},
   "outputs": [],
   "source": [
    "age = 21"
   ]
  },
  {
   "cell_type": "code",
   "execution_count": 5,
   "id": "6dd1f248-eec7-45a5-a949-a3478d8a2770",
   "metadata": {},
   "outputs": [
    {
     "data": {
      "text/plain": [
       "int"
      ]
     },
     "execution_count": 5,
     "metadata": {},
     "output_type": "execute_result"
    }
   ],
   "source": [
    "type(age * 2)"
   ]
  },
  {
   "cell_type": "code",
   "execution_count": 6,
   "id": "4c5f0c4a-b0bc-4da6-88d1-57b77707c81a",
   "metadata": {},
   "outputs": [],
   "source": [
    "# int -> integer"
   ]
  },
  {
   "cell_type": "code",
   "execution_count": 7,
   "id": "8dbf8d25-df2f-4048-ab69-47d6fb8725c7",
   "metadata": {},
   "outputs": [
    {
     "data": {
      "text/plain": [
       "int"
      ]
     },
     "execution_count": 7,
     "metadata": {},
     "output_type": "execute_result"
    }
   ],
   "source": [
    "type(-1000)"
   ]
  },
  {
   "cell_type": "code",
   "execution_count": 8,
   "id": "72345a23-2ac1-4b57-a1e6-dfce301a6453",
   "metadata": {},
   "outputs": [],
   "source": [
    "x = -100"
   ]
  },
  {
   "cell_type": "code",
   "execution_count": 9,
   "id": "a5f97a35-9d00-4283-a534-aef5f858fab2",
   "metadata": {},
   "outputs": [
    {
     "data": {
      "text/plain": [
       "int"
      ]
     },
     "execution_count": 9,
     "metadata": {},
     "output_type": "execute_result"
    }
   ],
   "source": [
    "type(x)"
   ]
  },
  {
   "cell_type": "code",
   "execution_count": 10,
   "id": "c14ccd61-56b4-4e53-988f-831668aace32",
   "metadata": {},
   "outputs": [
    {
     "data": {
      "text/plain": [
       "float"
      ]
     },
     "execution_count": 10,
     "metadata": {},
     "output_type": "execute_result"
    }
   ],
   "source": [
    "type(3.14)"
   ]
  },
  {
   "cell_type": "code",
   "execution_count": 11,
   "id": "d2f7a133-1317-48fa-8419-2cf666376371",
   "metadata": {},
   "outputs": [],
   "source": [
    "# float -> floating point"
   ]
  },
  {
   "cell_type": "code",
   "execution_count": 12,
   "id": "adda4cab-5dce-4bb6-98ab-ae02cf4c089d",
   "metadata": {},
   "outputs": [],
   "source": [
    "pi = 3.14"
   ]
  },
  {
   "cell_type": "code",
   "execution_count": 13,
   "id": "aa383cba-0019-49c2-ab72-b40d8010a73f",
   "metadata": {},
   "outputs": [
    {
     "data": {
      "text/plain": [
       "6.28"
      ]
     },
     "execution_count": 13,
     "metadata": {},
     "output_type": "execute_result"
    }
   ],
   "source": [
    "pi * 2"
   ]
  },
  {
   "cell_type": "code",
   "execution_count": 14,
   "id": "80b10665-fced-435d-99cf-48f68488926f",
   "metadata": {},
   "outputs": [
    {
     "data": {
      "text/plain": [
       "-96.86"
      ]
     },
     "execution_count": 14,
     "metadata": {},
     "output_type": "execute_result"
    }
   ],
   "source": [
    "x + pi"
   ]
  },
  {
   "cell_type": "code",
   "execution_count": 15,
   "id": "d89531e6-2f8b-4f75-b3dd-b840146d09c7",
   "metadata": {},
   "outputs": [],
   "source": [
    "# camelCase\n",
    "# snake_case"
   ]
  },
  {
   "cell_type": "code",
   "execution_count": 16,
   "id": "95334f79-f17e-4044-9606-990c4197287f",
   "metadata": {},
   "outputs": [
    {
     "data": {
      "text/plain": [
       "10.0"
      ]
     },
     "execution_count": 16,
     "metadata": {},
     "output_type": "execute_result"
    }
   ],
   "source": [
    "40 / 4"
   ]
  },
  {
   "cell_type": "code",
   "execution_count": 17,
   "id": "fd53f41f-993b-4b43-818a-b6de957c67b3",
   "metadata": {},
   "outputs": [
    {
     "data": {
      "text/plain": [
       "float"
      ]
     },
     "execution_count": 17,
     "metadata": {},
     "output_type": "execute_result"
    }
   ],
   "source": [
    "type(40 / 4)"
   ]
  },
  {
   "cell_type": "code",
   "execution_count": 18,
   "id": "e60f6815-b50a-4b0e-bfb8-369fb36d0ca7",
   "metadata": {},
   "outputs": [
    {
     "data": {
      "text/plain": [
       "32"
      ]
     },
     "execution_count": 18,
     "metadata": {},
     "output_type": "execute_result"
    }
   ],
   "source": [
    "2 * 2 * 2 * 2 * 2"
   ]
  },
  {
   "cell_type": "code",
   "execution_count": 19,
   "id": "1c4ed95c-5987-4350-91d7-2b14b52dbcb3",
   "metadata": {},
   "outputs": [
    {
     "data": {
      "text/plain": [
       "32"
      ]
     },
     "execution_count": 19,
     "metadata": {},
     "output_type": "execute_result"
    }
   ],
   "source": [
    "2 ** 5"
   ]
  },
  {
   "cell_type": "code",
   "execution_count": 20,
   "id": "310b047c-18f9-4bfc-b4fe-b433b137d8b6",
   "metadata": {},
   "outputs": [
    {
     "data": {
      "text/plain": [
       "512"
      ]
     },
     "execution_count": 20,
     "metadata": {},
     "output_type": "execute_result"
    }
   ],
   "source": [
    "2 ** 9"
   ]
  },
  {
   "cell_type": "code",
   "execution_count": 21,
   "id": "172d0fdb-36f3-48d3-90f5-ed9f5a283c89",
   "metadata": {},
   "outputs": [
    {
     "data": {
      "text/plain": [
       "1"
      ]
     },
     "execution_count": 21,
     "metadata": {},
     "output_type": "execute_result"
    }
   ],
   "source": [
    "10 % 3 # remainder"
   ]
  },
  {
   "cell_type": "code",
   "execution_count": 22,
   "id": "e327d641-fb14-4326-b475-c97f169c0409",
   "metadata": {},
   "outputs": [
    {
     "data": {
      "text/plain": [
       "0"
      ]
     },
     "execution_count": 22,
     "metadata": {},
     "output_type": "execute_result"
    }
   ],
   "source": [
    "10 % 2"
   ]
  },
  {
   "cell_type": "code",
   "execution_count": 23,
   "id": "e974d97e-cfb6-4300-9816-ccd9a90b7581",
   "metadata": {},
   "outputs": [
    {
     "data": {
      "text/plain": [
       "2"
      ]
     },
     "execution_count": 23,
     "metadata": {},
     "output_type": "execute_result"
    }
   ],
   "source": [
    "10 % 4"
   ]
  },
  {
   "cell_type": "code",
   "execution_count": null,
   "id": "270f7b16-e55c-4b45-981b-f51b233870ea",
   "metadata": {},
   "outputs": [],
   "source": []
  }
 ],
 "metadata": {
  "kernelspec": {
   "display_name": "Python 3 (ipykernel)",
   "language": "python",
   "name": "python3"
  },
  "language_info": {
   "codemirror_mode": {
    "name": "ipython",
    "version": 3
   },
   "file_extension": ".py",
   "mimetype": "text/x-python",
   "name": "python",
   "nbconvert_exporter": "python",
   "pygments_lexer": "ipython3",
   "version": "3.12.7"
  }
 },
 "nbformat": 4,
 "nbformat_minor": 5
}
