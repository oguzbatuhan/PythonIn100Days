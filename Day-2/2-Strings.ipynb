{
 "cells": [
  {
   "cell_type": "code",
   "execution_count": 1,
   "id": "e179073c-7add-4a01-bb62-bc3d58207250",
   "metadata": {},
   "outputs": [
    {
     "data": {
      "text/plain": [
       "'Hello, World!'"
      ]
     },
     "execution_count": 1,
     "metadata": {},
     "output_type": "execute_result"
    }
   ],
   "source": [
    "\"Hello, World!\""
   ]
  },
  {
   "cell_type": "code",
   "execution_count": 2,
   "id": "34bae572-53b6-41e4-a055-dfb58e3f84a8",
   "metadata": {},
   "outputs": [
    {
     "name": "stdout",
     "output_type": "stream",
     "text": [
      "Hello, Python!\n"
     ]
    }
   ],
   "source": [
    "print(\"Hello, Python!\")"
   ]
  },
  {
   "cell_type": "code",
   "execution_count": 3,
   "id": "17437ffc-1035-40aa-8a1a-226e3fce583e",
   "metadata": {},
   "outputs": [],
   "source": [
    "name =\"Oğuz\""
   ]
  },
  {
   "cell_type": "code",
   "execution_count": 4,
   "id": "aa9ccaca-4fed-4c05-b63d-7280554eb4ee",
   "metadata": {},
   "outputs": [
    {
     "data": {
      "text/plain": [
       "str"
      ]
     },
     "execution_count": 4,
     "metadata": {},
     "output_type": "execute_result"
    }
   ],
   "source": [
    "type(name)"
   ]
  },
  {
   "cell_type": "code",
   "execution_count": 5,
   "id": "86d15194-8d88-4993-9a78-d0b2453c0edc",
   "metadata": {},
   "outputs": [
    {
     "data": {
      "text/plain": [
       "'Oğuz Batuhan'"
      ]
     },
     "execution_count": 5,
     "metadata": {},
     "output_type": "execute_result"
    }
   ],
   "source": [
    "'Oğuz Batuhan'"
   ]
  },
  {
   "cell_type": "code",
   "execution_count": 6,
   "id": "cbc4f101-f5e9-49a0-83d5-e9c5289ab331",
   "metadata": {},
   "outputs": [
    {
     "data": {
      "text/plain": [
       "'Oğuz Batuhan'"
      ]
     },
     "execution_count": 6,
     "metadata": {},
     "output_type": "execute_result"
    }
   ],
   "source": [
    "\"Oğuz Batuhan\""
   ]
  },
  {
   "cell_type": "code",
   "execution_count": 7,
   "id": "8eea6888-793f-4760-9ce7-7830a40b959e",
   "metadata": {},
   "outputs": [
    {
     "data": {
      "text/plain": [
       "\"Oğuz'un Bilgisayarı\""
      ]
     },
     "execution_count": 7,
     "metadata": {},
     "output_type": "execute_result"
    }
   ],
   "source": [
    "\"Oğuz'un Bilgisayarı\""
   ]
  },
  {
   "cell_type": "code",
   "execution_count": 8,
   "id": "2454744f-e5af-4767-a82a-cc68970d2b4b",
   "metadata": {},
   "outputs": [
    {
     "data": {
      "text/plain": [
       "str"
      ]
     },
     "execution_count": 8,
     "metadata": {},
     "output_type": "execute_result"
    }
   ],
   "source": [
    "type(name)"
   ]
  },
  {
   "cell_type": "code",
   "execution_count": 9,
   "id": "bfe67efc-836d-43e7-a70d-f74369b99d8b",
   "metadata": {},
   "outputs": [],
   "source": [
    "name = \"Oğuz Batuhan Çözeli\""
   ]
  },
  {
   "cell_type": "code",
   "execution_count": 10,
   "id": "25edf738-b826-46cd-a435-bd0049258ca5",
   "metadata": {},
   "outputs": [
    {
     "data": {
      "text/plain": [
       "'Oğuz batuhan çözeli'"
      ]
     },
     "execution_count": 10,
     "metadata": {},
     "output_type": "execute_result"
    }
   ],
   "source": [
    "name.capitalize()"
   ]
  },
  {
   "cell_type": "code",
   "execution_count": 11,
   "id": "c520626d-725a-4b98-9201-c066f9d31097",
   "metadata": {},
   "outputs": [
    {
     "data": {
      "text/plain": [
       "'OĞUZ BATUHAN ÇÖZELI'"
      ]
     },
     "execution_count": 11,
     "metadata": {},
     "output_type": "execute_result"
    }
   ],
   "source": [
    "name.upper()"
   ]
  },
  {
   "cell_type": "code",
   "execution_count": 12,
   "id": "d856c5e4-b011-469f-a4a9-3097043f198d",
   "metadata": {},
   "outputs": [
    {
     "data": {
      "text/plain": [
       "'Oğuz Batuhan Çözeli'"
      ]
     },
     "execution_count": 12,
     "metadata": {},
     "output_type": "execute_result"
    }
   ],
   "source": [
    "name"
   ]
  },
  {
   "cell_type": "code",
   "execution_count": 13,
   "id": "f906ef2e-0528-40d4-a466-8f583b831ae4",
   "metadata": {},
   "outputs": [
    {
     "name": "stdout",
     "output_type": "stream",
     "text": [
      "Help on built-in function count:\n",
      "\n",
      "count(...) method of builtins.str instance\n",
      "    S.count(sub[, start[, end]]) -> int\n",
      "\n",
      "    Return the number of non-overlapping occurrences of substring sub in\n",
      "    string S[start:end].  Optional arguments start and end are\n",
      "    interpreted as in slice notation.\n",
      "\n"
     ]
    }
   ],
   "source": [
    "help(name.count)"
   ]
  },
  {
   "cell_type": "code",
   "execution_count": 14,
   "id": "c78dd6bb-7173-45c3-a83a-66ffe2903f24",
   "metadata": {},
   "outputs": [
    {
     "name": "stdout",
     "output_type": "stream",
     "text": [
      "Help on built-in function capitalize:\n",
      "\n",
      "capitalize() method of builtins.str instance\n",
      "    Return a capitalized version of the string.\n",
      "\n",
      "    More specifically, make the first character have upper case and the rest lower\n",
      "    case.\n",
      "\n"
     ]
    }
   ],
   "source": [
    "help(name.capitalize)"
   ]
  },
  {
   "cell_type": "code",
   "execution_count": 15,
   "id": "19460449-1da0-481c-a072-4303e1d9115e",
   "metadata": {},
   "outputs": [
    {
     "data": {
      "text/plain": [
       "2"
      ]
     },
     "execution_count": 15,
     "metadata": {},
     "output_type": "execute_result"
    }
   ],
   "source": [
    "name.count(\"a\")"
   ]
  },
  {
   "cell_type": "code",
   "execution_count": 16,
   "id": "0da4da0c-e784-4461-b6bd-55ebdf0e132b",
   "metadata": {},
   "outputs": [
    {
     "data": {
      "text/plain": [
       "0"
      ]
     },
     "execution_count": 16,
     "metadata": {},
     "output_type": "execute_result"
    }
   ],
   "source": [
    "name.count(\"y\")"
   ]
  },
  {
   "cell_type": "code",
   "execution_count": 17,
   "id": "36404178-47f2-4f47-b0a8-7a874e12b19b",
   "metadata": {},
   "outputs": [
    {
     "data": {
      "text/plain": [
       "'oğuz batuhan çözeli'"
      ]
     },
     "execution_count": 17,
     "metadata": {},
     "output_type": "execute_result"
    }
   ],
   "source": [
    "name.lower()"
   ]
  },
  {
   "cell_type": "code",
   "execution_count": 18,
   "id": "e24f42b3-cfbc-410d-bbec-21229213fb73",
   "metadata": {},
   "outputs": [
    {
     "data": {
      "text/plain": [
       "'Oğuz Batuhan Çözeli'"
      ]
     },
     "execution_count": 18,
     "metadata": {},
     "output_type": "execute_result"
    }
   ],
   "source": [
    "name"
   ]
  },
  {
   "cell_type": "code",
   "execution_count": 19,
   "id": "01669dd1-22b3-4daf-8ab5-5d9d8a6a5e88",
   "metadata": {},
   "outputs": [],
   "source": [
    "nameUpper = name.upper()"
   ]
  },
  {
   "cell_type": "code",
   "execution_count": 20,
   "id": "d1da87fa-d45c-42dd-9dba-cdd6cca1c2ce",
   "metadata": {},
   "outputs": [
    {
     "data": {
      "text/plain": [
       "'OĞUZ BATUHAN ÇÖZELI'"
      ]
     },
     "execution_count": 20,
     "metadata": {},
     "output_type": "execute_result"
    }
   ],
   "source": [
    "nameUpper"
   ]
  },
  {
   "cell_type": "code",
   "execution_count": 21,
   "id": "7c07533c-5f12-44c4-8aa6-4d7dca7f0311",
   "metadata": {},
   "outputs": [],
   "source": [
    "x = 10\n",
    "y = 5"
   ]
  },
  {
   "cell_type": "code",
   "execution_count": 22,
   "id": "dafc8278-07df-404a-ac82-f5fd825b96d3",
   "metadata": {},
   "outputs": [],
   "source": [
    "z = x + y"
   ]
  },
  {
   "cell_type": "code",
   "execution_count": 23,
   "id": "d7987629-21cb-442c-a3e3-5a3c52d308d5",
   "metadata": {},
   "outputs": [
    {
     "data": {
      "text/plain": [
       "15"
      ]
     },
     "execution_count": 23,
     "metadata": {},
     "output_type": "execute_result"
    }
   ],
   "source": [
    "z"
   ]
  },
  {
   "cell_type": "code",
   "execution_count": 24,
   "id": "5e235eac-d0f5-4f38-8a36-069011052a33",
   "metadata": {},
   "outputs": [
    {
     "name": "stdout",
     "output_type": "stream",
     "text": [
      "Help on built-in function upper:\n",
      "\n",
      "upper() method of builtins.str instance\n",
      "    Return a copy of the string converted to uppercase.\n",
      "\n"
     ]
    }
   ],
   "source": [
    "help(name.upper)"
   ]
  },
  {
   "cell_type": "code",
   "execution_count": 25,
   "id": "1aedf839-2f14-48f1-a010-87c67c43c723",
   "metadata": {},
   "outputs": [
    {
     "data": {
      "text/plain": [
       "19"
      ]
     },
     "execution_count": 25,
     "metadata": {},
     "output_type": "execute_result"
    }
   ],
   "source": [
    "len(name) # lenght"
   ]
  },
  {
   "cell_type": "code",
   "execution_count": 26,
   "id": "aab212f3-859d-4a73-84ba-6562e4c14036",
   "metadata": {},
   "outputs": [
    {
     "name": "stdout",
     "output_type": "stream",
     "text": [
      "Oğuz Batuhan Çözeli\n"
     ]
    }
   ],
   "source": [
    "print(\"Oğuz Batuhan Çözeli\")"
   ]
  },
  {
   "cell_type": "code",
   "execution_count": 27,
   "id": "666b3765-a66e-4144-b6a3-452b5d53256b",
   "metadata": {},
   "outputs": [
    {
     "name": "stdout",
     "output_type": "stream",
     "text": [
      "Oğuz Batuhan \n",
      "Çözeli\n"
     ]
    }
   ],
   "source": [
    "print(\"Oğuz Batuhan \\nÇözeli\")"
   ]
  },
  {
   "cell_type": "code",
   "execution_count": 28,
   "id": "05ebaffd-0eca-44a8-8e8a-3e856abf58b5",
   "metadata": {},
   "outputs": [],
   "source": [
    "# \\n -> new line"
   ]
  },
  {
   "cell_type": "code",
   "execution_count": 29,
   "id": "4656d7d5-9058-41fa-b44a-db4e6ae0abe5",
   "metadata": {},
   "outputs": [],
   "source": [
    "# escape characters"
   ]
  },
  {
   "cell_type": "code",
   "execution_count": 30,
   "id": "50336b55-0dec-4204-a31f-5bb9d34b593c",
   "metadata": {},
   "outputs": [],
   "source": [
    "# \\t -> tab"
   ]
  },
  {
   "cell_type": "code",
   "execution_count": 31,
   "id": "ed0818f9-381e-43fe-883a-8780cf06d517",
   "metadata": {},
   "outputs": [
    {
     "name": "stdout",
     "output_type": "stream",
     "text": [
      "Oğuz Batuhan \tÇözeli\n"
     ]
    }
   ],
   "source": [
    "print(\"Oğuz Batuhan \\tÇözeli\")"
   ]
  },
  {
   "cell_type": "code",
   "execution_count": 32,
   "id": "53eaa4e7-0dc4-4510-8d52-76642f81e030",
   "metadata": {},
   "outputs": [
    {
     "data": {
      "text/plain": [
       "'Oğuz Batuhan Çözeli'"
      ]
     },
     "execution_count": 32,
     "metadata": {},
     "output_type": "execute_result"
    }
   ],
   "source": [
    "name"
   ]
  },
  {
   "cell_type": "code",
   "execution_count": null,
   "id": "4b61bcb4-1cb4-4dc0-b8af-f6b2a919c5bd",
   "metadata": {},
   "outputs": [],
   "source": []
  }
 ],
 "metadata": {
  "kernelspec": {
   "display_name": "Python 3 (ipykernel)",
   "language": "python",
   "name": "python3"
  },
  "language_info": {
   "codemirror_mode": {
    "name": "ipython",
    "version": 3
   },
   "file_extension": ".py",
   "mimetype": "text/x-python",
   "name": "python",
   "nbconvert_exporter": "python",
   "pygments_lexer": "ipython3",
   "version": "3.12.7"
  }
 },
 "nbformat": 4,
 "nbformat_minor": 5
}
