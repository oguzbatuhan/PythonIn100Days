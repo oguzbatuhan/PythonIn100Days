{
 "cells": [
  {
   "cell_type": "markdown",
   "id": "8a1fe07a-73cf-4836-bb10-58129c5193f9",
   "metadata": {},
   "source": [
    "Index"
   ]
  },
  {
   "cell_type": "code",
   "execution_count": 3,
   "id": "57ca06a6-61e8-4b15-96f3-b705ae023029",
   "metadata": {},
   "outputs": [],
   "source": [
    "myString = \"Hello Python\""
   ]
  },
  {
   "cell_type": "code",
   "execution_count": 5,
   "id": "8b581374-2f78-4063-83a9-7f51ad7ec261",
   "metadata": {},
   "outputs": [
    {
     "data": {
      "text/plain": [
       "'H'"
      ]
     },
     "execution_count": 5,
     "metadata": {},
     "output_type": "execute_result"
    }
   ],
   "source": [
    "myString[0]"
   ]
  },
  {
   "cell_type": "code",
   "execution_count": 7,
   "id": "88fc6b4b-6042-4bb1-a899-463b4e7486bc",
   "metadata": {},
   "outputs": [
    {
     "data": {
      "text/plain": [
       "'y'"
      ]
     },
     "execution_count": 7,
     "metadata": {},
     "output_type": "execute_result"
    }
   ],
   "source": [
    "myString[7]"
   ]
  },
  {
   "cell_type": "code",
   "execution_count": 9,
   "id": "7d4c0f8f-5337-42fc-9d03-6acaed2c53f9",
   "metadata": {},
   "outputs": [],
   "source": [
    "myString = \"Oğuz Batuhan\""
   ]
  },
  {
   "cell_type": "code",
   "execution_count": 11,
   "id": "6ee092ab-5a83-4526-b5c0-f37c63bcfdb2",
   "metadata": {},
   "outputs": [
    {
     "data": {
      "text/plain": [
       "'O'"
      ]
     },
     "execution_count": 11,
     "metadata": {},
     "output_type": "execute_result"
    }
   ],
   "source": [
    "myString[0]"
   ]
  },
  {
   "cell_type": "code",
   "execution_count": 13,
   "id": "422cc7e4-545d-4ae1-a71b-e8ac02d77a32",
   "metadata": {},
   "outputs": [
    {
     "data": {
      "text/plain": [
       "11"
      ]
     },
     "execution_count": 13,
     "metadata": {},
     "output_type": "execute_result"
    }
   ],
   "source": [
    "len(myString) - 1"
   ]
  },
  {
   "cell_type": "code",
   "execution_count": 15,
   "id": "17d1c255-3fdf-4355-9faa-5c18463531c7",
   "metadata": {},
   "outputs": [
    {
     "data": {
      "text/plain": [
       "'n'"
      ]
     },
     "execution_count": 15,
     "metadata": {},
     "output_type": "execute_result"
    }
   ],
   "source": [
    "myString[11]"
   ]
  },
  {
   "cell_type": "code",
   "execution_count": 45,
   "id": "b789d309-6c5f-42ab-906c-812ba1c20ade",
   "metadata": {},
   "outputs": [],
   "source": [
    "myName = \"James Hetfield\""
   ]
  },
  {
   "cell_type": "code",
   "execution_count": 47,
   "id": "601034a1-c651-4eea-9f46-0ac7102b0de0",
   "metadata": {},
   "outputs": [
    {
     "data": {
      "text/plain": [
       "'d'"
      ]
     },
     "execution_count": 47,
     "metadata": {},
     "output_type": "execute_result"
    }
   ],
   "source": [
    "myName[len(myName)-1]"
   ]
  },
  {
   "cell_type": "code",
   "execution_count": 49,
   "id": "925b6538-79fd-4443-bb47-8c6cd1b2d8c8",
   "metadata": {},
   "outputs": [
    {
     "data": {
      "text/plain": [
       "'d'"
      ]
     },
     "execution_count": 49,
     "metadata": {},
     "output_type": "execute_result"
    }
   ],
   "source": [
    "myName[-1]"
   ]
  },
  {
   "cell_type": "code",
   "execution_count": 51,
   "id": "42e2fce5-2f81-4b73-a45d-b6eec7cfabea",
   "metadata": {},
   "outputs": [],
   "source": [
    "#barcode[starting index:stopping index:stepping size]"
   ]
  },
  {
   "cell_type": "code",
   "execution_count": 57,
   "id": "9fa4e610-d45a-442b-a079-6731413d84dc",
   "metadata": {},
   "outputs": [],
   "source": [
    "barcode = \"ABCDE123123982\""
   ]
  },
  {
   "cell_type": "code",
   "execution_count": 63,
   "id": "2d95f438-48b1-4766-9a46-31b24630a14a",
   "metadata": {},
   "outputs": [
    {
     "data": {
      "text/plain": [
       "'ABCDE123123982'"
      ]
     },
     "execution_count": 63,
     "metadata": {},
     "output_type": "execute_result"
    }
   ],
   "source": [
    "barcode"
   ]
  },
  {
   "cell_type": "code",
   "execution_count": 77,
   "id": "f62b489b-ec38-475c-9cc1-fbf378e49543",
   "metadata": {},
   "outputs": [
    {
     "data": {
      "text/plain": [
       "'DE123123982'"
      ]
     },
     "execution_count": 77,
     "metadata": {},
     "output_type": "execute_result"
    }
   ],
   "source": [
    "barcode[3::]"
   ]
  },
  {
   "cell_type": "code",
   "execution_count": 79,
   "id": "a6d8d910-3bf6-4b0d-abf7-cea9cbeb89ed",
   "metadata": {},
   "outputs": [
    {
     "data": {
      "text/plain": [
       "'ABC'"
      ]
     },
     "execution_count": 79,
     "metadata": {},
     "output_type": "execute_result"
    }
   ],
   "source": [
    "barcode[:3:]"
   ]
  },
  {
   "cell_type": "code",
   "execution_count": 81,
   "id": "a851c598-6e52-4cec-99fa-8621b8258750",
   "metadata": {},
   "outputs": [
    {
     "data": {
      "text/plain": [
       "'AD228'"
      ]
     },
     "execution_count": 81,
     "metadata": {},
     "output_type": "execute_result"
    }
   ],
   "source": [
    "barcode[::3]"
   ]
  },
  {
   "cell_type": "code",
   "execution_count": 83,
   "id": "17b3221a-1ec1-4747-8dd4-7364f86ceed5",
   "metadata": {},
   "outputs": [
    {
     "data": {
      "text/plain": [
       "'ABCDE123123982'"
      ]
     },
     "execution_count": 83,
     "metadata": {},
     "output_type": "execute_result"
    }
   ],
   "source": [
    "barcode[::]"
   ]
  },
  {
   "cell_type": "code",
   "execution_count": 97,
   "id": "3b0a09d2-5272-4b2b-a9ad-34e1c56b4683",
   "metadata": {},
   "outputs": [
    {
     "data": {
      "text/plain": [
       "'DE'"
      ]
     },
     "execution_count": 97,
     "metadata": {},
     "output_type": "execute_result"
    }
   ],
   "source": [
    "(barcode[3:5:])"
   ]
  },
  {
   "cell_type": "code",
   "execution_count": 101,
   "id": "b7778509-5923-42b2-bee8-5f15c16fb613",
   "metadata": {},
   "outputs": [
    {
     "data": {
      "text/plain": [
       "'CE2'"
      ]
     },
     "execution_count": 101,
     "metadata": {},
     "output_type": "execute_result"
    }
   ],
   "source": [
    "barcode[2:8:2] # ikinci indexsten sekizinci indekse kadar olan aralıktan ikişer ikişer atlayar elemanları alır."
   ]
  },
  {
   "cell_type": "code",
   "execution_count": 119,
   "id": "790cb1d6-2516-456e-bc00-305798d88b33",
   "metadata": {},
   "outputs": [
    {
     "name": "stdout",
     "output_type": "stream",
     "text": [
      "ABCDE123123982\n",
      "289321321EDCBA\n"
     ]
    }
   ],
   "source": [
    "print(barcode)\n",
    "print(barcode[::-1]) # barkodu ters düz eder."
   ]
  },
  {
   "cell_type": "code",
   "execution_count": 125,
   "id": "b1bc731b-7013-4cb5-9a34-d97f3443cdcc",
   "metadata": {},
   "outputs": [],
   "source": [
    "name = \"Oğuz Batuhan\""
   ]
  },
  {
   "cell_type": "code",
   "execution_count": 133,
   "id": "eae2114c-8b4d-454f-b0b8-d52a2717c897",
   "metadata": {},
   "outputs": [
    {
     "data": {
      "text/plain": [
       "3"
      ]
     },
     "execution_count": 133,
     "metadata": {},
     "output_type": "execute_result"
    }
   ],
   "source": [
    "name.index(\"z\")"
   ]
  },
  {
   "cell_type": "code",
   "execution_count": 139,
   "id": "b372ddd2-70a6-49a9-90f5-39b2377d3fa5",
   "metadata": {},
   "outputs": [
    {
     "data": {
      "text/plain": [
       "['Oğuz', 'Batuhan']"
      ]
     },
     "execution_count": 139,
     "metadata": {},
     "output_type": "execute_result"
    }
   ],
   "source": [
    "name.split()"
   ]
  },
  {
   "cell_type": "code",
   "execution_count": 137,
   "id": "bb79f0eb-4934-4c53-b2d1-0437e04ce162",
   "metadata": {},
   "outputs": [
    {
     "data": {
      "text/plain": [
       "list"
      ]
     },
     "execution_count": 137,
     "metadata": {},
     "output_type": "execute_result"
    }
   ],
   "source": [
    "type(name.split())"
   ]
  },
  {
   "cell_type": "code",
   "execution_count": 147,
   "id": "dbf7e398-72b4-4e4b-bd15-2325a67d2f8c",
   "metadata": {},
   "outputs": [
    {
     "name": "stdout",
     "output_type": "stream",
     "text": [
      "0\n",
      "1\n"
     ]
    }
   ],
   "source": [
    "print((name.split()).index(\"Oğuz\"))\n",
    "print((name.split()).index(\"Batuhan\"))"
   ]
  },
  {
   "cell_type": "code",
   "execution_count": null,
   "id": "c92fefdf-c629-423c-83a8-251a0107a8e0",
   "metadata": {},
   "outputs": [],
   "source": []
  }
 ],
 "metadata": {
  "kernelspec": {
   "display_name": "Python 3 (ipykernel)",
   "language": "python",
   "name": "python3"
  },
  "language_info": {
   "codemirror_mode": {
    "name": "ipython",
    "version": 3
   },
   "file_extension": ".py",
   "mimetype": "text/x-python",
   "name": "python",
   "nbconvert_exporter": "python",
   "pygments_lexer": "ipython3",
   "version": "3.12.7"
  }
 },
 "nbformat": 4,
 "nbformat_minor": 5
}
