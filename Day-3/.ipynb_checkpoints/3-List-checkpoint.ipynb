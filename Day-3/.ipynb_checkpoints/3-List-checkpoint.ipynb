{
 "cells": [
  {
   "cell_type": "code",
   "execution_count": 4,
   "id": "3f83c602-4c31-4fdf-8f74-2f3f536f81eb",
   "metadata": {},
   "outputs": [],
   "source": [
    "myString = \"Hello Python\""
   ]
  },
  {
   "cell_type": "code",
   "execution_count": 6,
   "id": "5fa03730-d75b-42d0-afc2-1eb75daef378",
   "metadata": {},
   "outputs": [
    {
     "data": {
      "text/plain": [
       "['Hello', 'Python']"
      ]
     },
     "execution_count": 6,
     "metadata": {},
     "output_type": "execute_result"
    }
   ],
   "source": [
    "myString.split()"
   ]
  },
  {
   "cell_type": "code",
   "execution_count": 10,
   "id": "2091dbfc-5c79-4071-9be6-d2a5fe3ca4b6",
   "metadata": {},
   "outputs": [
    {
     "data": {
      "text/plain": [
       "list"
      ]
     },
     "execution_count": 10,
     "metadata": {},
     "output_type": "execute_result"
    }
   ],
   "source": [
    "type(myString.split())"
   ]
  },
  {
   "cell_type": "code",
   "execution_count": 41,
   "id": "9266dc56-e357-4e5f-8af0-46ef6183c6c3",
   "metadata": {},
   "outputs": [],
   "source": [
    "#myString[0] = a"
   ]
  },
  {
   "cell_type": "code",
   "execution_count": 43,
   "id": "a549affc-07bd-4322-8367-24b6c9d5c0a7",
   "metadata": {},
   "outputs": [],
   "source": [
    "# immutable - immutability"
   ]
  },
  {
   "cell_type": "markdown",
   "id": "70071a08-611a-4fc9-b2a3-9c07906abee9",
   "metadata": {},
   "source": [
    "List"
   ]
  },
  {
   "cell_type": "code",
   "execution_count": 27,
   "id": "e9bda1df-2266-4a0e-b0a4-3e66ef04da9b",
   "metadata": {},
   "outputs": [],
   "source": [
    "myList = [10,20,30,40,50,60,70]"
   ]
  },
  {
   "cell_type": "code",
   "execution_count": 29,
   "id": "4eb66cba-ab39-4f8a-bd83-540939cd9aba",
   "metadata": {},
   "outputs": [
    {
     "data": {
      "text/plain": [
       "60"
      ]
     },
     "execution_count": 29,
     "metadata": {},
     "output_type": "execute_result"
    }
   ],
   "source": [
    "myList[5]"
   ]
  },
  {
   "cell_type": "code",
   "execution_count": 31,
   "id": "32d06e99-778f-4b54-9c49-f4031d1ca76a",
   "metadata": {},
   "outputs": [
    {
     "data": {
      "text/plain": [
       "list"
      ]
     },
     "execution_count": 31,
     "metadata": {},
     "output_type": "execute_result"
    }
   ],
   "source": [
    "type(myList)"
   ]
  },
  {
   "cell_type": "code",
   "execution_count": 33,
   "id": "281a37fb-3f5f-4fef-8a26-a2908ca8ce7d",
   "metadata": {},
   "outputs": [
    {
     "data": {
      "text/plain": [
       "int"
      ]
     },
     "execution_count": 33,
     "metadata": {},
     "output_type": "execute_result"
    }
   ],
   "source": [
    "type(myList[0])"
   ]
  },
  {
   "cell_type": "code",
   "execution_count": 35,
   "id": "2e48d05c-f24e-441a-9054-9043c31f47be",
   "metadata": {},
   "outputs": [],
   "source": [
    "myList[0] = 100"
   ]
  },
  {
   "cell_type": "code",
   "execution_count": 39,
   "id": "e56a195c-0668-42df-995c-d998b2847bd3",
   "metadata": {},
   "outputs": [],
   "source": [
    "# mutable - mutability "
   ]
  },
  {
   "cell_type": "code",
   "execution_count": 37,
   "id": "c5cedaab-39e8-418e-9b80-c090dfb19d28",
   "metadata": {},
   "outputs": [
    {
     "data": {
      "text/plain": [
       "[100, 20, 30, 40, 50, 60, 70]"
      ]
     },
     "execution_count": 37,
     "metadata": {},
     "output_type": "execute_result"
    }
   ],
   "source": [
    "myList"
   ]
  },
  {
   "cell_type": "code",
   "execution_count": 45,
   "id": "4c56e72a-fd54-44cc-bf3f-7b7a5a530664",
   "metadata": {},
   "outputs": [
    {
     "data": {
      "text/plain": [
       "7"
      ]
     },
     "execution_count": 45,
     "metadata": {},
     "output_type": "execute_result"
    }
   ],
   "source": [
    "len(myList)"
   ]
  },
  {
   "cell_type": "code",
   "execution_count": 51,
   "id": "3c0fd058-0eae-4160-836c-dd98fcf2b226",
   "metadata": {},
   "outputs": [
    {
     "data": {
      "text/plain": [
       "70"
      ]
     },
     "execution_count": 51,
     "metadata": {},
     "output_type": "execute_result"
    }
   ],
   "source": [
    "myList[len(myList)-1]"
   ]
  },
  {
   "cell_type": "code",
   "execution_count": 53,
   "id": "8130968f-f64d-4434-94cc-4884959e9818",
   "metadata": {},
   "outputs": [
    {
     "data": {
      "text/plain": [
       "70"
      ]
     },
     "execution_count": 53,
     "metadata": {},
     "output_type": "execute_result"
    }
   ],
   "source": [
    "myList[-1]"
   ]
  },
  {
   "cell_type": "code",
   "execution_count": 55,
   "id": "47a16a1d-e230-4a10-ab7a-e85ec1eb21da",
   "metadata": {},
   "outputs": [
    {
     "data": {
      "text/plain": [
       "[100, 20, 30, 40, 50, 60, 70]"
      ]
     },
     "execution_count": 55,
     "metadata": {},
     "output_type": "execute_result"
    }
   ],
   "source": [
    "myList"
   ]
  },
  {
   "cell_type": "code",
   "execution_count": 57,
   "id": "6bf011e6-2175-4c26-9277-f39991dfaa7f",
   "metadata": {},
   "outputs": [],
   "source": [
    "myList.append(80)"
   ]
  },
  {
   "cell_type": "code",
   "execution_count": 59,
   "id": "4d6d2545-45b4-47fb-ad96-e08bc7429011",
   "metadata": {},
   "outputs": [
    {
     "data": {
      "text/plain": [
       "[100, 20, 30, 40, 50, 60, 70, 80]"
      ]
     },
     "execution_count": 59,
     "metadata": {},
     "output_type": "execute_result"
    }
   ],
   "source": [
    "myList"
   ]
  },
  {
   "cell_type": "code",
   "execution_count": 61,
   "id": "355ddd19-1bf8-487b-a527-ed18a821ae49",
   "metadata": {},
   "outputs": [],
   "source": [
    "myList.append(1)"
   ]
  },
  {
   "cell_type": "code",
   "execution_count": 63,
   "id": "b39d85b6-52a3-4c6f-a347-f6c9f1990ce2",
   "metadata": {},
   "outputs": [
    {
     "data": {
      "text/plain": [
       "[100, 20, 30, 40, 50, 60, 70, 80, 1]"
      ]
     },
     "execution_count": 63,
     "metadata": {},
     "output_type": "execute_result"
    }
   ],
   "source": [
    "myList"
   ]
  },
  {
   "cell_type": "code",
   "execution_count": 65,
   "id": "6c5e29ef-22b1-4c70-9f3e-66c63bfc3fad",
   "metadata": {},
   "outputs": [
    {
     "data": {
      "text/plain": [
       "9"
      ]
     },
     "execution_count": 65,
     "metadata": {},
     "output_type": "execute_result"
    }
   ],
   "source": [
    "len(myList)"
   ]
  },
  {
   "cell_type": "code",
   "execution_count": 67,
   "id": "75b36c83-2474-4bc3-8d96-2d39876defb0",
   "metadata": {},
   "outputs": [
    {
     "data": {
      "text/plain": [
       "1"
      ]
     },
     "execution_count": 67,
     "metadata": {},
     "output_type": "execute_result"
    }
   ],
   "source": [
    "myList.count(20)"
   ]
  },
  {
   "cell_type": "code",
   "execution_count": 71,
   "id": "d4d1c32d-9a38-4ecd-8152-3457a8a0ce97",
   "metadata": {},
   "outputs": [
    {
     "data": {
      "text/plain": [
       "0"
      ]
     },
     "execution_count": 71,
     "metadata": {},
     "output_type": "execute_result"
    }
   ],
   "source": [
    "myList.count(25)"
   ]
  },
  {
   "cell_type": "code",
   "execution_count": 75,
   "id": "520d1f6b-a208-44f0-b1d0-8b5561b3d337",
   "metadata": {},
   "outputs": [
    {
     "name": "stdout",
     "output_type": "stream",
     "text": [
      "Help on built-in function insert:\n",
      "\n",
      "insert(index, object, /) method of builtins.list instance\n",
      "    Insert object before index.\n",
      "\n"
     ]
    }
   ],
   "source": [
    "help(myList.insert)"
   ]
  },
  {
   "cell_type": "code",
   "execution_count": 79,
   "id": "261361c5-0292-4bba-a5d2-c070b8cf043c",
   "metadata": {},
   "outputs": [],
   "source": [
    "myList.insert(2, 35)"
   ]
  },
  {
   "cell_type": "code",
   "execution_count": 81,
   "id": "f2f7819f-58ed-4751-b9d7-f85b3caec468",
   "metadata": {},
   "outputs": [
    {
     "data": {
      "text/plain": [
       "[100, 20, 35, 30, 40, 50, 60, 70, 80, 1]"
      ]
     },
     "execution_count": 81,
     "metadata": {},
     "output_type": "execute_result"
    }
   ],
   "source": [
    "myList"
   ]
  },
  {
   "cell_type": "code",
   "execution_count": 87,
   "id": "80991991-408f-4ecf-bfa1-e13dc86d7301",
   "metadata": {},
   "outputs": [
    {
     "data": {
      "text/plain": [
       "1"
      ]
     },
     "execution_count": 87,
     "metadata": {},
     "output_type": "execute_result"
    }
   ],
   "source": [
    "myList.pop()"
   ]
  },
  {
   "cell_type": "code",
   "execution_count": 89,
   "id": "995ff509-146e-4551-847d-2e121b5423c6",
   "metadata": {},
   "outputs": [
    {
     "data": {
      "text/plain": [
       "[100, 20, 35, 30, 40, 50, 60, 70, 80]"
      ]
     },
     "execution_count": 89,
     "metadata": {},
     "output_type": "execute_result"
    }
   ],
   "source": [
    "myList"
   ]
  },
  {
   "cell_type": "code",
   "execution_count": 91,
   "id": "b513254c-2a4a-4106-9e0f-97a097dd522e",
   "metadata": {},
   "outputs": [],
   "source": [
    "myList.remove(40)"
   ]
  },
  {
   "cell_type": "code",
   "execution_count": 93,
   "id": "5040bc1e-31c2-4519-844f-91052704bb59",
   "metadata": {},
   "outputs": [
    {
     "data": {
      "text/plain": [
       "[100, 20, 35, 30, 50, 60, 70, 80]"
      ]
     },
     "execution_count": 93,
     "metadata": {},
     "output_type": "execute_result"
    }
   ],
   "source": [
    "myList"
   ]
  },
  {
   "cell_type": "code",
   "execution_count": 95,
   "id": "895e2c9d-9d8c-4f91-9b22-89bc067b2f08",
   "metadata": {},
   "outputs": [],
   "source": [
    "myList.reverse()"
   ]
  },
  {
   "cell_type": "code",
   "execution_count": 97,
   "id": "85ce3aa7-22d0-44db-8805-5e8148958afb",
   "metadata": {},
   "outputs": [
    {
     "data": {
      "text/plain": [
       "[80, 70, 60, 50, 30, 35, 20, 100]"
      ]
     },
     "execution_count": 97,
     "metadata": {},
     "output_type": "execute_result"
    }
   ],
   "source": [
    "myList"
   ]
  },
  {
   "cell_type": "code",
   "execution_count": 101,
   "id": "c9b0c17c-c367-4ab5-a104-3ae3d2bfb6fe",
   "metadata": {},
   "outputs": [],
   "source": [
    "myList.sort()"
   ]
  },
  {
   "cell_type": "code",
   "execution_count": 103,
   "id": "b753d9fa-6210-4cd6-aef3-567c135d46a8",
   "metadata": {},
   "outputs": [
    {
     "data": {
      "text/plain": [
       "[20, 30, 35, 50, 60, 70, 80, 100]"
      ]
     },
     "execution_count": 103,
     "metadata": {},
     "output_type": "execute_result"
    }
   ],
   "source": [
    "myList"
   ]
  },
  {
   "cell_type": "code",
   "execution_count": 111,
   "id": "5a271e9c-9f90-4e8d-aba8-2449037fa64b",
   "metadata": {},
   "outputs": [
    {
     "name": "stdin",
     "output_type": "stream",
     "text": [
      "Enter x: 10\n"
     ]
    }
   ],
   "source": [
    "x = input(\"Enter x:\")"
   ]
  },
  {
   "cell_type": "code",
   "execution_count": 107,
   "id": "b98d5092-78b3-4685-8f18-acb0ed36c916",
   "metadata": {},
   "outputs": [
    {
     "data": {
      "text/plain": [
       "'10'"
      ]
     },
     "execution_count": 107,
     "metadata": {},
     "output_type": "execute_result"
    }
   ],
   "source": [
    "x"
   ]
  },
  {
   "cell_type": "code",
   "execution_count": 109,
   "id": "523ef46b-1ca0-49da-9450-3dacedc5c568",
   "metadata": {},
   "outputs": [
    {
     "data": {
      "text/plain": [
       "str"
      ]
     },
     "execution_count": 109,
     "metadata": {},
     "output_type": "execute_result"
    }
   ],
   "source": [
    "type(x)"
   ]
  },
  {
   "cell_type": "code",
   "execution_count": 113,
   "id": "7e164d00-e9c7-4c4b-a40c-5ea9b99f1173",
   "metadata": {},
   "outputs": [
    {
     "name": "stdin",
     "output_type": "stream",
     "text": [
      "Enter y: 20\n"
     ]
    }
   ],
   "source": [
    "y = input(\"Enter y:\")"
   ]
  },
  {
   "cell_type": "code",
   "execution_count": 115,
   "id": "ad55d220-2172-45ad-9e6a-879e1d1add4c",
   "metadata": {},
   "outputs": [
    {
     "data": {
      "text/plain": [
       "'20'"
      ]
     },
     "execution_count": 115,
     "metadata": {},
     "output_type": "execute_result"
    }
   ],
   "source": [
    "y"
   ]
  },
  {
   "cell_type": "code",
   "execution_count": 117,
   "id": "219aeca6-1144-4aa8-80ae-7743ee754fdf",
   "metadata": {},
   "outputs": [
    {
     "name": "stdin",
     "output_type": "stream",
     "text": [
      "Enter z: 30\n"
     ]
    }
   ],
   "source": [
    "z = input(\"Enter z:\")"
   ]
  },
  {
   "cell_type": "code",
   "execution_count": 119,
   "id": "0be3682e-3a2f-417e-87e7-8fcc11f609f7",
   "metadata": {},
   "outputs": [
    {
     "data": {
      "text/plain": [
       "'30'"
      ]
     },
     "execution_count": 119,
     "metadata": {},
     "output_type": "execute_result"
    }
   ],
   "source": [
    "z"
   ]
  },
  {
   "cell_type": "code",
   "execution_count": 121,
   "id": "dc17a7d9-2214-42df-87dd-2dbfdeddfa5e",
   "metadata": {},
   "outputs": [],
   "source": [
    "inputList = []"
   ]
  },
  {
   "cell_type": "code",
   "execution_count": 123,
   "id": "5afc3b69-c161-4da8-9b15-d58fd725f13e",
   "metadata": {},
   "outputs": [
    {
     "data": {
      "text/plain": [
       "list"
      ]
     },
     "execution_count": 123,
     "metadata": {},
     "output_type": "execute_result"
    }
   ],
   "source": [
    "type(inputList)"
   ]
  },
  {
   "cell_type": "code",
   "execution_count": 127,
   "id": "f6af1996-9f1e-419a-9582-260c616f9efe",
   "metadata": {},
   "outputs": [
    {
     "data": {
      "text/plain": [
       "[]"
      ]
     },
     "execution_count": 127,
     "metadata": {},
     "output_type": "execute_result"
    }
   ],
   "source": [
    "inputList"
   ]
  },
  {
   "cell_type": "code",
   "execution_count": 129,
   "id": "5fa45231-0096-4239-9d6e-29e2b7f7673c",
   "metadata": {},
   "outputs": [
    {
     "data": {
      "text/plain": [
       "0"
      ]
     },
     "execution_count": 129,
     "metadata": {},
     "output_type": "execute_result"
    }
   ],
   "source": [
    "len(inputList)"
   ]
  },
  {
   "cell_type": "code",
   "execution_count": 167,
   "id": "d8f3cfd7-3268-4fe7-b54c-833cadfc654d",
   "metadata": {},
   "outputs": [],
   "source": [
    "inputList.append(x)\n",
    "inputList.append(y)\n",
    "inputList.append(z)"
   ]
  },
  {
   "cell_type": "code",
   "execution_count": 169,
   "id": "883f548f-25d8-4b20-b56a-dd6f8a04725f",
   "metadata": {},
   "outputs": [
    {
     "data": {
      "text/plain": [
       "['10', '20', '30']"
      ]
     },
     "execution_count": 169,
     "metadata": {},
     "output_type": "execute_result"
    }
   ],
   "source": [
    "inputList"
   ]
  },
  {
   "cell_type": "code",
   "execution_count": 2,
   "id": "a4db3e99-3765-4531-963c-3d920fc1daf7",
   "metadata": {},
   "outputs": [],
   "source": [
    "myString = \"25\""
   ]
  },
  {
   "cell_type": "code",
   "execution_count": 4,
   "id": "b0f0adae-d09d-4fc6-91c6-ba25e08bb977",
   "metadata": {},
   "outputs": [
    {
     "data": {
      "text/plain": [
       "'25'"
      ]
     },
     "execution_count": 4,
     "metadata": {},
     "output_type": "execute_result"
    }
   ],
   "source": [
    "myString"
   ]
  },
  {
   "cell_type": "code",
   "execution_count": 6,
   "id": "38b085cf-71aa-429a-bd09-6a102cbe4f63",
   "metadata": {},
   "outputs": [
    {
     "data": {
      "text/plain": [
       "25"
      ]
     },
     "execution_count": 6,
     "metadata": {},
     "output_type": "execute_result"
    }
   ],
   "source": [
    "int(myString)"
   ]
  },
  {
   "cell_type": "code",
   "execution_count": 8,
   "id": "ab0ef37b-860c-4f66-b306-010cfbdfa7df",
   "metadata": {},
   "outputs": [
    {
     "data": {
      "text/plain": [
       "25.0"
      ]
     },
     "execution_count": 8,
     "metadata": {},
     "output_type": "execute_result"
    }
   ],
   "source": [
    "float(myString)"
   ]
  },
  {
   "cell_type": "code",
   "execution_count": 10,
   "id": "d6645f2e-d5d6-4c4a-9e54-aa29c49df818",
   "metadata": {},
   "outputs": [
    {
     "data": {
      "text/plain": [
       "'25'"
      ]
     },
     "execution_count": 10,
     "metadata": {},
     "output_type": "execute_result"
    }
   ],
   "source": [
    "str(myString)"
   ]
  },
  {
   "cell_type": "code",
   "execution_count": 12,
   "id": "88888945-771a-4caf-9a3b-758b5788f0ec",
   "metadata": {},
   "outputs": [],
   "source": [
    "mixedList = [\"Oğuz\", 10, 50.45]"
   ]
  },
  {
   "cell_type": "code",
   "execution_count": 14,
   "id": "32d245a0-dc67-4573-a6ff-d7e29b5872a3",
   "metadata": {},
   "outputs": [
    {
     "data": {
      "text/plain": [
       "list"
      ]
     },
     "execution_count": 14,
     "metadata": {},
     "output_type": "execute_result"
    }
   ],
   "source": [
    "type(mixedList)"
   ]
  },
  {
   "cell_type": "code",
   "execution_count": 16,
   "id": "7af19a91-d6a7-44db-b8dd-fea7d757a8a5",
   "metadata": {},
   "outputs": [],
   "source": [
    "list1 = [10,20,30]"
   ]
  },
  {
   "cell_type": "code",
   "execution_count": 18,
   "id": "f72d808d-0862-4c43-9a5d-ddac79353452",
   "metadata": {},
   "outputs": [],
   "source": [
    "list2 = [40,50,60]"
   ]
  },
  {
   "cell_type": "code",
   "execution_count": 20,
   "id": "e539a512-b4d6-4713-a0cf-975b820e9c74",
   "metadata": {},
   "outputs": [
    {
     "data": {
      "text/plain": [
       "[10, 20, 30, 40, 50, 60]"
      ]
     },
     "execution_count": 20,
     "metadata": {},
     "output_type": "execute_result"
    }
   ],
   "source": [
    "list1 + list2"
   ]
  },
  {
   "cell_type": "code",
   "execution_count": 22,
   "id": "08c829a9-1c66-4abc-a60d-e8ccee075395",
   "metadata": {},
   "outputs": [
    {
     "data": {
      "text/plain": [
       "[10, 20, 30, 10, 20, 30]"
      ]
     },
     "execution_count": 22,
     "metadata": {},
     "output_type": "execute_result"
    }
   ],
   "source": [
    "list1 * 2"
   ]
  },
  {
   "cell_type": "code",
   "execution_count": 24,
   "id": "6f3e1021-96ab-4136-bfb5-6d85b9d07984",
   "metadata": {},
   "outputs": [
    {
     "data": {
      "text/plain": [
       "[10, 20, 30, 10, 20, 30, 10, 20, 30]"
      ]
     },
     "execution_count": 24,
     "metadata": {},
     "output_type": "execute_result"
    }
   ],
   "source": [
    "list1 *3"
   ]
  },
  {
   "cell_type": "code",
   "execution_count": 28,
   "id": "289c8bef-6cc8-472b-af08-c3d66392e262",
   "metadata": {},
   "outputs": [],
   "source": [
    "# NestedList"
   ]
  },
  {
   "cell_type": "code",
   "execution_count": 30,
   "id": "62c3e92c-7e4e-4506-a944-49a5a342f474",
   "metadata": {},
   "outputs": [],
   "source": [
    "myNestedList = [10, 20, 3.14, \"Oğuz\", [1, 2, 3]]"
   ]
  },
  {
   "cell_type": "code",
   "execution_count": 32,
   "id": "ac4d0e1c-1143-4c5d-a24e-aa03c8bf4609",
   "metadata": {},
   "outputs": [
    {
     "data": {
      "text/plain": [
       "[10, 20, 3.14, 'Oğuz', [1, 2, 3]]"
      ]
     },
     "execution_count": 32,
     "metadata": {},
     "output_type": "execute_result"
    }
   ],
   "source": [
    "myNestedList"
   ]
  },
  {
   "cell_type": "code",
   "execution_count": 34,
   "id": "07c9eabf-fef3-44a0-9df0-da62dc6e96dd",
   "metadata": {},
   "outputs": [],
   "source": [
    "smallList = myNestedList[4]"
   ]
  },
  {
   "cell_type": "code",
   "execution_count": 36,
   "id": "b2870ea5-b9ba-4080-a5d2-312ae4658619",
   "metadata": {},
   "outputs": [
    {
     "data": {
      "text/plain": [
       "[1, 2, 3]"
      ]
     },
     "execution_count": 36,
     "metadata": {},
     "output_type": "execute_result"
    }
   ],
   "source": [
    "smallList"
   ]
  },
  {
   "cell_type": "code",
   "execution_count": 52,
   "id": "5ccd5e99-7c97-43fd-b64d-9b2b8d0ce469",
   "metadata": {},
   "outputs": [
    {
     "data": {
      "text/plain": [
       "1"
      ]
     },
     "execution_count": 52,
     "metadata": {},
     "output_type": "execute_result"
    }
   ],
   "source": [
    "myNestedList[4][0]"
   ]
  },
  {
   "cell_type": "code",
   "execution_count": 54,
   "id": "9b5bb8dc-0216-4733-a66c-23383dc56af0",
   "metadata": {},
   "outputs": [],
   "source": [
    "lastList = [\"a\", \"b\", [\"c\", \"d\", \"e\"], \"f\"]"
   ]
  },
  {
   "cell_type": "code",
   "execution_count": 56,
   "id": "679d8e57-18b0-43c4-b71c-00c283a148d9",
   "metadata": {},
   "outputs": [
    {
     "data": {
      "text/plain": [
       "['a', 'b', ['c', 'd', 'e'], 'f']"
      ]
     },
     "execution_count": 56,
     "metadata": {},
     "output_type": "execute_result"
    }
   ],
   "source": [
    "lastList"
   ]
  },
  {
   "cell_type": "code",
   "execution_count": 60,
   "id": "ddf763b1-806e-4efa-9110-5512e5400736",
   "metadata": {},
   "outputs": [
    {
     "data": {
      "text/plain": [
       "4"
      ]
     },
     "execution_count": 60,
     "metadata": {},
     "output_type": "execute_result"
    }
   ],
   "source": [
    "len(lastList)"
   ]
  },
  {
   "cell_type": "code",
   "execution_count": 66,
   "id": "8634c5c2-5365-4a94-86f6-573d9e2c9173",
   "metadata": {},
   "outputs": [],
   "source": [
    "firstList = [10, 20, 30, 40, 50, 60, 70]"
   ]
  },
  {
   "cell_type": "code",
   "execution_count": 68,
   "id": "88184a0c-9347-4b36-bf17-cee1040ab327",
   "metadata": {},
   "outputs": [
    {
     "data": {
      "text/plain": [
       "[10, 20, 30, 40, 50, 60, 70]"
      ]
     },
     "execution_count": 68,
     "metadata": {},
     "output_type": "execute_result"
    }
   ],
   "source": [
    "firstList[::]"
   ]
  },
  {
   "cell_type": "code",
   "execution_count": 70,
   "id": "35b6234e-d574-4834-b2e4-ca73bcfb66b5",
   "metadata": {},
   "outputs": [
    {
     "data": {
      "text/plain": [
       "[30, 40, 50, 60, 70]"
      ]
     },
     "execution_count": 70,
     "metadata": {},
     "output_type": "execute_result"
    }
   ],
   "source": [
    "firstList[2::]"
   ]
  },
  {
   "cell_type": "code",
   "execution_count": 72,
   "id": "7c4db912-aa25-42c3-a7c6-44c795c5fa86",
   "metadata": {},
   "outputs": [
    {
     "data": {
      "text/plain": [
       "[10, 20, 30, 40, 50]"
      ]
     },
     "execution_count": 72,
     "metadata": {},
     "output_type": "execute_result"
    }
   ],
   "source": [
    "firstList[:5:]"
   ]
  },
  {
   "cell_type": "code",
   "execution_count": 74,
   "id": "b0a68185-49c0-41c5-b8d6-dba1e57d2dc5",
   "metadata": {},
   "outputs": [
    {
     "data": {
      "text/plain": [
       "[20, 40, 60]"
      ]
     },
     "execution_count": 74,
     "metadata": {},
     "output_type": "execute_result"
    }
   ],
   "source": [
    "firstList[1:6:2]"
   ]
  },
  {
   "cell_type": "code",
   "execution_count": null,
   "id": "3fc02df0-b88f-46e8-9127-e6f7a692f0de",
   "metadata": {},
   "outputs": [],
   "source": []
  }
 ],
 "metadata": {
  "kernelspec": {
   "display_name": "Python 3 (ipykernel)",
   "language": "python",
   "name": "python3"
  },
  "language_info": {
   "codemirror_mode": {
    "name": "ipython",
    "version": 3
   },
   "file_extension": ".py",
   "mimetype": "text/x-python",
   "name": "python",
   "nbconvert_exporter": "python",
   "pygments_lexer": "ipython3",
   "version": "3.12.7"
  }
 },
 "nbformat": 4,
 "nbformat_minor": 5
}
